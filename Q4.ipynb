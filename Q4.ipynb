{
 "cells": [
  {
   "cell_type": "code",
   "execution_count": 4,
   "metadata": {},
   "outputs": [
    {
     "name": "stdout",
     "output_type": "stream",
     "text": [
      "검색어를 입력해주세요.:빅데이터 pdf\n",
      "몇 건의 pdf 파일을 저장할까요?:5\n",
      "결과 파일을 저장할 경로를 입력해주세요.(예:c:\\data\\):C:\\Users\\UIT801-\\Desktop\\20191469\\3학년 1학기\\SNS빅데이터\\과제\\SNS_기말과제\\Q4\\\n"
     ]
    },
    {
     "name": "stderr",
     "output_type": "stream",
     "text": [
      "C:\\Users\\UIT801-\\AppData\\Local\\Temp\\ipykernel_16968\\2527251525.py:26: DeprecationWarning: executable_path has been deprecated, please pass in a Service object\n",
      "  driver = webdriver.Chrome(path)\n"
     ]
    },
    {
     "name": "stdout",
     "output_type": "stream",
     "text": [
      "1번째 pdf파일 다운로드 성공\n",
      "2번째 pdf파일 다운로드 성공\n",
      "3번째 pdf파일 다운로드 성공\n",
      "4번째 pdf파일 다운로드 성공\n",
      "5번째 pdf파일 다운로드 성공\n",
      "요청하신 데이터 추출이 성공적으로 끝났습니다.\n"
     ]
    }
   ],
   "source": [
    "import pandas as pd \n",
    "from bs4 import BeautifulSoup\n",
    "from selenium import webdriver\n",
    "from selenium.webdriver.common.by import By\n",
    "from selenium.webdriver.common.keys import Keys\n",
    "from selenium.webdriver.support.ui import Select\n",
    "from selenium.webdriver.common.action_chains import ActionChains\n",
    "import time\n",
    "import sys\n",
    "import os\n",
    "import math\n",
    "import numpy\n",
    "import xlwt\n",
    "import urllib.request\n",
    "import requests\n",
    "        \n",
    "keyword = input(\"검색어를 입력해주세요.:\")\n",
    "how_many = int(input(\"몇 건의 pdf 파일을 저장할까요?:\"))\n",
    "f_dir = input(\"결과 파일을 저장할 경로를 입력해주세요.(예:c:\\\\data\\\\):\")\n",
    "\n",
    "n = time.localtime()\n",
    "s = '%04d-%02d-%02d-%02d-%02d-%02d' % (n.tm_year, n.tm_mon, n.tm_mday, n.tm_hour, n.tm_min, n.tm_sec)\n",
    "os.makedirs(f_dir+s+'-'+keyword)\n",
    "os.chdir(f_dir+s+'-'+keyword)\n",
    "path = \"C:\\Temp\\chromedriver_win32\\chromedriver.exe\"\n",
    "driver = webdriver.Chrome(path)\n",
    "driver.get(\"http://google.co.kr\")\n",
    "\n",
    "search_bar = driver.find_element(By.NAME, 'q')\n",
    "search_bar.send_keys(keyword)\n",
    "search_bar.submit()\n",
    "time.sleep(1)\n",
    "\n",
    "cnt = 0\n",
    "error = 0\n",
    "while True:\n",
    "    body = driver.find_element(By.CSS_SELECTOR, 'body')\n",
    "    body.send_keys(Keys.END)\n",
    "    soup = BeautifulSoup(driver.page_source, 'html.parser')\n",
    "    urls = soup.find_all('a')\n",
    "    \n",
    "    for url in urls:\n",
    "        try:\n",
    "            if url.get('href').endswith('.pdf'):\n",
    "                pdf_name = os.path.join(f_dir + s + '-' + keyword + '\\\\' + str(cnt) + \".pdf\")\n",
    "                response = requests.get(url.get('href'))\n",
    "                with open(pdf_name, 'wb') as f:\n",
    "                    f.write(response.content)\n",
    "                print(str(cnt+1)+\"번째 pdf파일 다운로드 성공\")\n",
    "                cnt += 1\n",
    "                if cnt == how_many:\n",
    "                    break\n",
    "        except:\n",
    "            error += 1\n",
    "    if cnt == how_many:\n",
    "        break\n",
    "    try:\n",
    "        driver.find_element(By.ID, 'pnnext').click()\n",
    "    except:\n",
    "        print(\"페이지가 더 이상 없습니다. 추출을 강제 종료합니다.\")\n",
    "        break;\n",
    "    time.sleep(1)\n",
    "print(\"요청하신 데이터 추출이 성공적으로 끝났습니다.\")"
   ]
  },
  {
   "cell_type": "code",
   "execution_count": null,
   "metadata": {},
   "outputs": [],
   "source": []
  }
 ],
 "metadata": {
  "kernelspec": {
   "display_name": "Python 3 (ipykernel)",
   "language": "python",
   "name": "python3"
  },
  "language_info": {
   "codemirror_mode": {
    "name": "ipython",
    "version": 3
   },
   "file_extension": ".py",
   "mimetype": "text/x-python",
   "name": "python",
   "nbconvert_exporter": "python",
   "pygments_lexer": "ipython3",
   "version": "3.11.3"
  }
 },
 "nbformat": 4,
 "nbformat_minor": 2
}
