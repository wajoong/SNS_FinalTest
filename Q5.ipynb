{
 "cells": [
  {
   "cell_type": "code",
   "execution_count": 1,
   "metadata": {},
   "outputs": [
    {
     "name": "stdout",
     "output_type": "stream",
     "text": [
      "크롤링할 키워드를 입력해주세요.:에비츄\n",
      "크롤링할 영상의 수를 입력해주세요:20\n",
      "크롤링할 댓글의 수를 입력해주세요:2\n",
      "결과 파일을 저장할 폴더명을 작성하세요.(예:c:\\data\\):C:\\Users\\UIT801-\\Desktop\\20191469\\3학년 1학기\\SNS빅데이터\\과제\\SNS_기말과제\\Q5\\\n"
     ]
    },
    {
     "name": "stderr",
     "output_type": "stream",
     "text": [
      "C:\\Users\\UIT801-\\AppData\\Local\\Temp\\ipykernel_7440\\36901644.py:29: DeprecationWarning: executable_path has been deprecated, please pass in a Service object\n",
      "  driver = webdriver.Chrome(path)\n"
     ]
    },
    {
     "name": "stdout",
     "output_type": "stream",
     "text": [
      "요청하신 데이터 추출이 성공적으로 끝났습니다.\n"
     ]
    }
   ],
   "source": [
    "import pandas as pd \n",
    "from bs4 import BeautifulSoup\n",
    "from selenium import webdriver\n",
    "from selenium.webdriver.common.by import By\n",
    "from selenium.webdriver.common.keys import Keys\n",
    "from selenium.webdriver.support.ui import Select\n",
    "from selenium.webdriver.common.action_chains import ActionChains\n",
    "import time\n",
    "import sys\n",
    "import os\n",
    "import math\n",
    "import numpy\n",
    "import xlwt\n",
    "import urllib.request\n",
    "import requests\n",
    "\n",
    "keyword  = input(\"크롤링할 키워드를 입력해주세요.:\")\n",
    "how_many_videos = int(input(\"크롤링할 영상의 수를 입력해주세요:\"))\n",
    "how_many_comments = int(input(\"크롤링할 댓글의 수를 입력해주세요:\"))\n",
    "f_dir = input(\"결과 파일을 저장할 폴더명을 작성하세요.(예:c:\\\\data\\\\):\")\n",
    "n = time.localtime()\n",
    "s = '%04d-%02d-%02d-%02d-%02d-%02d' % (n.tm_year, n.tm_mon, n.tm_mday, n.tm_hour, n.tm_min, n.tm_sec)\n",
    "os.makedirs(f_dir+s+'-'+keyword)\n",
    "os.chdir(f_dir+s+'-'+keyword)\n",
    "f_txt=f_dir+s+'-'+keyword+'\\\\'+s+'-'+keyword+'.txt'\n",
    "f_csv=f_dir+s+'-'+keyword+'\\\\'+s+'-'+keyword+'.csv'\n",
    "f_xls=f_dir+s+'-'+keyword+'\\\\'+s+'-'+keyword+'.xlsx'\n",
    "path = \"C:\\Temp\\chromedriver_win32\\chromedriver.exe\"\n",
    "driver = webdriver.Chrome(path)\n",
    "driver.get(\"http://youtube.com\")\n",
    "time.sleep(1)\n",
    "search_bar = driver.find_element(By.NAME, \"search_query\")\n",
    "search_bar.send_keys(keyword)\n",
    "search_bar.submit()\n",
    "time.sleep(1)\n",
    "for _ in range(int(how_many_videos / 5)+1):\n",
    "    body = driver.find_element(By.CSS_SELECTOR, 'body')\n",
    "    body.send_keys(Keys.END)\n",
    "    time.sleep(1)\n",
    "driver.find_element(By.TAG_NAME, \"body\").send_keys(Keys.END)\n",
    "\n",
    "vds = []\n",
    "soup = BeautifulSoup(driver.page_source, 'html.parser')\n",
    "vd_rends = soup.find_all(\"ytd-video-renderer\", class_=\"style-scope ytd-item-section-renderer\")\n",
    "for vd_r in vd_rends:\n",
    "    v = vd_r.find(\"ytd-thumbnail\", class_=\"style-scope ytd-video-renderer\").find(\"a\", class_=\"yt-simple-endpoint inline-block style-scope ytd-thumbnail\").get(\"href\")\n",
    "    vds.append(v)\n",
    "v_cnt = 0\n",
    "nicks = []\n",
    "cmts = []\n",
    "dates = []\n",
    "urls = []\n",
    "v_nl = []\n",
    "c_nl = []\n",
    "\n",
    "for vd in vds:\n",
    "    if (vd.startswith(\"/shorts\")):\n",
    "        continue\n",
    "    driver.get(\"http://youtube.com\" + vd)\n",
    "    time.sleep(1)\n",
    "    v_cnt += 1\n",
    "    c_cnt = 0\n",
    "    scroll_cnt = 0\n",
    "    while len(cmts) < how_many_comments * how_many_videos:\n",
    "        soup = BeautifulSoup(driver.page_source, 'html.parser')\n",
    "        cmt_elements = soup.find_all(\"ytd-comment-thread-renderer\")\n",
    "        if (scroll_cnt == 3) & (len(cmt_elements) < how_many_comments):\n",
    "            v_cnt -= 1\n",
    "            break\n",
    "        for cmt_box in cmt_elements:\n",
    "            if c_cnt >= how_many_comments:\n",
    "                break\n",
    "            if len(cmt_elements) >= how_many_comments:\n",
    "                cmt_detail = cmt_box.find('ytd-comment-renderer').find('div', id='body').find('div', id='main')\n",
    "                nicks.append(cmt_detail.find('div', id='header').find('div', id='header-author').find('h3').get_text().strip())\n",
    "                dates.append(cmt_detail.find('div', id='header').find('div', id='header-author').find('yt-formatted-string', class_='published-time-text style-scope ytd-comment-renderer').get_text().strip())\n",
    "                cmts.append(cmt_detail.find('div', id='comment-content').get_text().strip().replace(\"간략히\", \"\").replace(\"자세히 보기\", \"\"))\n",
    "                urls.append(\"http://youtube.com\" + vd)\n",
    "                v_nl.append(v_cnt)\n",
    "                c_nl.append(c_cnt)\n",
    "                c_cnt += 1\n",
    "        if c_cnt >= how_many_comments:\n",
    "            break\n",
    "        driver.find_element(By.TAG_NAME, \"body\").send_keys(Keys.END)\n",
    "        scroll_cnt += 1\n",
    "    if (v_cnt-1 == how_many_videos):\n",
    "        break\n",
    "        \n",
    "df = pd.DataFrame()\n",
    "df['영상번호'] = v_nl\n",
    "df['댓글번호'] = c_nl\n",
    "df['작성자'] = nicks\n",
    "df['작성일자'] = dates\n",
    "df['내용'] = cmts\n",
    "df['url'] = urls\n",
    "df.to_excel(f_xls)\n",
    "df.to_csv(f_csv, encoding=\"utf-8-sig\")\n",
    "f = open(f_txt, 'a',encoding='UTF-8')\n",
    "for i in range(len(v_nl)):\n",
    "    f.write(str(v_nl[i]) + '번째 영상의 ' + str(c_nl[i]+1) + '번째 댓글입니다. ~~\\n')\n",
    "    f.write('1.작성자: ' + nicks[i] + '\\n')\n",
    "    f.write('2.작성일: ' + dates[i] + '\\n')\n",
    "    f.write('3.댓글내용: ' + cmts[i] + '\\n')\n",
    "    f.write('4.영상url: ' + urls[i] + '\\n\\n\\n')\n",
    "f.close()\n",
    "print(\"요청하신 데이터 추출이 성공적으로 끝났습니다.\")"
   ]
  },
  {
   "cell_type": "code",
   "execution_count": null,
   "metadata": {},
   "outputs": [],
   "source": []
  },
  {
   "cell_type": "code",
   "execution_count": null,
   "metadata": {},
   "outputs": [],
   "source": []
  }
 ],
 "metadata": {
  "kernelspec": {
   "display_name": "Python 3 (ipykernel)",
   "language": "python",
   "name": "python3"
  },
  "language_info": {
   "codemirror_mode": {
    "name": "ipython",
    "version": 3
   },
   "file_extension": ".py",
   "mimetype": "text/x-python",
   "name": "python",
   "nbconvert_exporter": "python",
   "pygments_lexer": "ipython3",
   "version": "3.11.3"
  }
 },
 "nbformat": 4,
 "nbformat_minor": 2
}
