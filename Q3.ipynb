{
 "cells": [
  {
   "cell_type": "code",
   "execution_count": null,
   "metadata": {},
   "outputs": [
    {
     "name": "stdout",
     "output_type": "stream",
     "text": [
      "1. 크롤링할 키워드를 입력하세요.(예:고양이): 과일\n",
      "2. 크롤링할 건수는 몇건입니까?: 28\n",
      "3.추출 결과를 저장할 폴더명을 입력하세요.(예:c:\\data\\):C:\\Users\\UIT801-\\Desktop\\20191469\\3학년 1학기\\SNS빅데이터\\과제\\SNS_기말과제\\Q3\\\n"
     ]
    },
    {
     "name": "stderr",
     "output_type": "stream",
     "text": [
      "C:\\Users\\UIT801-\\AppData\\Local\\Temp\\ipykernel_18016\\1291657583.py:26: DeprecationWarning: executable_path has been deprecated, please pass in a Service object\n",
      "  driver = webdriver.Chrome(driver_path)\n"
     ]
    },
    {
     "name": "stdout",
     "output_type": "stream",
     "text": [
      "1번째 이미지 다운로드 완료!\n",
      "2번째 이미지 다운로드 완료!\n",
      "3번째 이미지 다운로드 완료!\n",
      "4번째 이미지 다운로드 완료!\n",
      "5번째 이미지 다운로드 완료!\n",
      "6번째 이미지 다운로드 완료!\n",
      "7번째 이미지 다운로드 완료!\n",
      "8번째 이미지 다운로드 완료!\n",
      "9번째 이미지 다운로드 완료!\n",
      "10번째 이미지 다운로드 완료!\n",
      "11번째 이미지 다운로드 완료!\n",
      "12번째 이미지 다운로드 완료!\n",
      "13번째 이미지 다운로드 완료!\n",
      "14번째 이미지 다운로드 완료!\n",
      "15번째 이미지 다운로드 완료!\n",
      "16번째 이미지 다운로드 완료!\n",
      "17번째 이미지 다운로드 완료!\n",
      "18번째 이미지 다운로드 완료!\n",
      "19번째 이미지 다운로드 완료!\n",
      "20번째 이미지 다운로드 완료!\n"
     ]
    }
   ],
   "source": [
    "import pandas as pd \n",
    "from bs4 import BeautifulSoup\n",
    "from selenium import webdriver\n",
    "from selenium.webdriver.common.by import By\n",
    "from selenium.webdriver.common.keys import Keys\n",
    "from selenium.webdriver.support.ui import Select\n",
    "from selenium.webdriver.common.action_chains import ActionChains\n",
    "import time\n",
    "import sys\n",
    "import os\n",
    "import math\n",
    "import numpy\n",
    "import xlwt\n",
    "import urllib.request\n",
    "import requests\n",
    "\n",
    "keyword = input('1. 크롤링할 키워드를 입력하세요.(예:고양이): ')\n",
    "how_many = int(input('2. 크롤링할 건수는 몇건입니까?: '))\n",
    "f_dir = input(\"3.추출 결과를 저장할 폴더명을 입력하세요.(예:c:\\\\data\\\\):\")\n",
    "n = time.localtime()\n",
    "s = '%04d-%02d-%02d-%02d-%02d-%02d' % (n.tm_year, n.tm_mon, n.tm_mday, n.tm_hour, n.tm_min, n.tm_sec)\n",
    "os.makedirs(f_dir+s+'-'+keyword)\n",
    "os.chdir(f_dir+s+'-'+keyword)\n",
    "img_folder = os.path.join(f_dir, s + \"-\" + keyword)\n",
    "driver_path = \"C:\\Temp\\chromedriver_win32\\chromedriver.exe\"\n",
    "driver = webdriver.Chrome(driver_path)\n",
    "driver.get(\"https://pixabay.com/ko/\")\n",
    "time.sleep(1)\n",
    "search_bar = driver.find_element(By.NAME, 'search')\n",
    "search_bar.click()\n",
    "search_bar.send_keys(keyword)\n",
    "search_bar.submit()\n",
    "time.sleep(1)\n",
    "\n",
    "count = 0\n",
    "error = 0\n",
    "while count < how_many:\n",
    "    body = driver.find_element(By.CSS_SELECTOR, 'body')\n",
    "    before_height = driver.execute_script(\"return document.body.scrollHeight\")\n",
    "    after_height=0\n",
    "    while after_height != before_height:\n",
    "        driver.execute_script(\"window.scrollTo(0, document.body.scrollHeight);\")\n",
    "        after_height = driver.execute_script(\"return document.body.scrollHeight\")\n",
    "        before_height = after_height\n",
    "    soup = BeautifulSoup(driver.page_source, 'html.parser')\n",
    "    all_img = soup.find_all('img')\n",
    "    for img in all_img:\n",
    "        try:\n",
    "            img_url = img.get('src')\n",
    "            img_name = str(count+1) + \".jpg\"\n",
    "            response = requests.get(img_url)\n",
    "            with open(os.path.join(img_folder, img_name), 'wb') as f:\n",
    "                f.write(response.content)\n",
    "            count += 1\n",
    "            print(str(count) + \"번째 이미지 다운로드 완료!\")\n",
    "            if count == how_many:\n",
    "                break\n",
    "        except:\n",
    "            error += 1\n",
    "        time.sleep(1)\n",
    "    pagi = 1\n",
    "    if count < how_many:\n",
    "        pagi += 1\n",
    "        next = \"https://pixabay.com/ko/images/search/\" + keyword + \"/?pagi=\" + str(pagi)\n",
    "        driver.get(next)\n",
    "\n",
    "print(\"요청하신 데이터 추출이 성공적으로 끝났습니다.\")"
   ]
  },
  {
   "cell_type": "code",
   "execution_count": null,
   "metadata": {},
   "outputs": [],
   "source": []
  },
  {
   "cell_type": "code",
   "execution_count": null,
   "metadata": {},
   "outputs": [],
   "source": []
  }
 ],
 "metadata": {
  "kernelspec": {
   "display_name": "Python 3 (ipykernel)",
   "language": "python",
   "name": "python3"
  },
  "language_info": {
   "codemirror_mode": {
    "name": "ipython",
    "version": 3
   },
   "file_extension": ".py",
   "mimetype": "text/x-python",
   "name": "python",
   "nbconvert_exporter": "python",
   "pygments_lexer": "ipython3",
   "version": "3.11.3"
  }
 },
 "nbformat": 4,
 "nbformat_minor": 2
}
